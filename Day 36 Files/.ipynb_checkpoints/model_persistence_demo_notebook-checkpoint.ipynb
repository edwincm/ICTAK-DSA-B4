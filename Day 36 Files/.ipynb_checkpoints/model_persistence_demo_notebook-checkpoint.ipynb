{
  "nbformat": 4,
  "nbformat_minor": 0,
  "metadata": {
    "colab": {
      "provenance": []
    },
    "kernelspec": {
      "name": "python3",
      "display_name": "Python 3"
    },
    "language_info": {
      "name": "python"
    }
  },
  "cells": [
    {
      "cell_type": "code",
      "execution_count": 16,
      "metadata": {
        "id": "eFgDS9o1nI0t"
      },
      "outputs": [],
      "source": [
        "import pickle\n",
        "import numpy as np\n",
        "import pandas as pd\n",
        "import matplotlib.pyplot as plt\n",
        "from sklearn.metrics import accuracy_score\n",
        "from sklearn.model_selection import train_test_split\n",
        "from sklearn.linear_model import LogisticRegression\n",
        "from sklearn.ensemble import RandomForestClassifier\n",
        "from sklearn.model_selection import cross_val_score, KFold"
      ]
    },
    {
      "cell_type": "code",
      "source": [
        "data = pd.read_csv(\"Iris.csv\")"
      ],
      "metadata": {
        "id": "1P_n_rHKnLm3"
      },
      "execution_count": 11,
      "outputs": []
    },
    {
      "cell_type": "code",
      "source": [
        "y = data[\"Species\"]\n",
        "X = data.drop([\"Species\", \"Id\"], axis=1)"
      ],
      "metadata": {
        "id": "YZcoTcLbnNwV"
      },
      "execution_count": 12,
      "outputs": []
    },
    {
      "cell_type": "code",
      "source": [
        "X_train, X_test, y_train, y_test = train_test_split(X, y, test_size=0.25)"
      ],
      "metadata": {
        "id": "PpA_ZI0knpWT"
      },
      "execution_count": 13,
      "outputs": []
    },
    {
      "cell_type": "code",
      "source": [
        "lr_model = LogisticRegression()\n",
        "kf = KFold(n_splits=5)\n",
        "lr_model.fit(X_train, y_train)\n",
        "\n",
        "lr_cv_results = cross_val_score(lr_model, X, y, cv=kf)\n",
        "print(\"Average CV Score of Logistic Regression Model: \", np.mean(lr_cv_results))"
      ],
      "metadata": {
        "colab": {
          "base_uri": "https://localhost:8080/"
        },
        "id": "40998iiqns_m",
        "outputId": "46aac3d5-5d94-45de-b457-fa829ada6bc5"
      },
      "execution_count": 20,
      "outputs": [
        {
          "output_type": "stream",
          "name": "stdout",
          "text": [
            "Average CV Score of Logistic Regression Model:  0.9266666666666665\n"
          ]
        }
      ]
    },
    {
      "cell_type": "code",
      "source": [
        "rf_model = RandomForestClassifier()\n",
        "rf_model.fit(X_train, y_train)\n",
        "kf = KFold(n_splits=5)\n",
        "\n",
        "rf_cv_results = cross_val_score(rf_model, X, y, cv=kf)\n",
        "print(\"Average CV Score of Random Forest Model: \", np.mean(rf_cv_results))"
      ],
      "metadata": {
        "colab": {
          "base_uri": "https://localhost:8080/"
        },
        "id": "z1qLdDP_ojh5",
        "outputId": "a88e7d9d-45c3-46b9-e28f-42f41716cb38"
      },
      "execution_count": 21,
      "outputs": [
        {
          "output_type": "stream",
          "name": "stdout",
          "text": [
            "Average CV Score of Random Forest Model:  0.9133333333333333\n"
          ]
        }
      ]
    },
    {
      "cell_type": "code",
      "source": [
        "filename = 'lr_model.pkl'\n",
        "with open(filename, 'wb') as file:\n",
        "    pickle.dump(lr_model, file)"
      ],
      "metadata": {
        "id": "0smZHKerqSf-"
      },
      "execution_count": 22,
      "outputs": []
    },
    {
      "cell_type": "code",
      "source": [
        "pred = lr_model.predict(np.array([[1,2,3,4]]))"
      ],
      "metadata": {
        "colab": {
          "base_uri": "https://localhost:8080/"
        },
        "id": "iHnWAqQWq2n4",
        "outputId": "65b69e8e-936a-4ca5-9875-a146eecadc70"
      },
      "execution_count": 25,
      "outputs": [
        {
          "output_type": "stream",
          "name": "stderr",
          "text": [
            "/usr/local/lib/python3.10/dist-packages/sklearn/utils/validation.py:2739: UserWarning: X does not have valid feature names, but LogisticRegression was fitted with feature names\n",
            "  warnings.warn(\n"
          ]
        }
      ]
    },
    {
      "cell_type": "code",
      "source": [
        "pred[0]"
      ],
      "metadata": {
        "colab": {
          "base_uri": "https://localhost:8080/",
          "height": 35
        },
        "id": "En1HGYDtrNP2",
        "outputId": "206879c2-50d5-46f5-8c7f-72a93c8cb76b"
      },
      "execution_count": 27,
      "outputs": [
        {
          "output_type": "execute_result",
          "data": {
            "text/plain": [
              "'Iris-setosa'"
            ],
            "application/vnd.google.colaboratory.intrinsic+json": {
              "type": "string"
            }
          },
          "metadata": {},
          "execution_count": 27
        }
      ]
    },
    {
      "cell_type": "code",
      "source": [],
      "metadata": {
        "id": "WgL-_SsTrmZ_"
      },
      "execution_count": null,
      "outputs": []
    }
  ]
}