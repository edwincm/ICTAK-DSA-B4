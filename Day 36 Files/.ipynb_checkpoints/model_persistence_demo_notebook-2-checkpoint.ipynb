{
  "nbformat": 4,
  "nbformat_minor": 0,
  "metadata": {
    "colab": {
      "provenance": []
    },
    "kernelspec": {
      "name": "python3",
      "display_name": "Python 3"
    },
    "language_info": {
      "name": "python"
    }
  },
  "cells": [
    {
      "cell_type": "code",
      "execution_count": 47,
      "metadata": {
        "id": "eFgDS9o1nI0t"
      },
      "outputs": [],
      "source": [
        "import joblib\n",
        "import numpy as np\n",
        "import pandas as pd\n",
        "import matplotlib.pyplot as plt\n",
        "from sklearn.metrics import accuracy_score\n",
        "from sklearn.model_selection import train_test_split\n",
        "from sklearn.linear_model import LogisticRegression\n",
        "from sklearn.ensemble import RandomForestClassifier\n",
        "from sklearn.model_selection import cross_val_score, KFold"
      ]
    },
    {
      "cell_type": "code",
      "source": [
        "data = pd.read_csv(\"Iris.csv\")"
      ],
      "metadata": {
        "id": "1P_n_rHKnLm3"
      },
      "execution_count": 48,
      "outputs": []
    },
    {
      "cell_type": "code",
      "source": [
        "y = data[\"Species\"]\n",
        "X = data.drop([\"Species\", \"Id\"], axis=1)"
      ],
      "metadata": {
        "id": "YZcoTcLbnNwV"
      },
      "execution_count": 49,
      "outputs": []
    },
    {
      "cell_type": "code",
      "source": [
        "X_train, X_test, y_train, y_test = train_test_split(X, y, test_size=0.25)"
      ],
      "metadata": {
        "id": "PpA_ZI0knpWT"
      },
      "execution_count": 50,
      "outputs": []
    },
    {
      "cell_type": "code",
      "source": [
        "lr_model = LogisticRegression()\n",
        "kf = KFold(n_splits=5)\n",
        "lr_model.fit(X_train, y_train)\n",
        "\n",
        "lr_cv_results = cross_val_score(lr_model, X, y, cv=kf)\n",
        "print(\"Average CV Score of Logistic Regression Model: \", np.mean(lr_cv_results))"
      ],
      "metadata": {
        "colab": {
          "base_uri": "https://localhost:8080/"
        },
        "id": "40998iiqns_m",
        "outputId": "c3914125-d88c-4b57-ebed-c2fd24513992"
      },
      "execution_count": 51,
      "outputs": [
        {
          "output_type": "stream",
          "name": "stdout",
          "text": [
            "Average CV Score of Logistic Regression Model:  0.9266666666666665\n"
          ]
        }
      ]
    },
    {
      "cell_type": "code",
      "source": [
        "rf_model = RandomForestClassifier()\n",
        "rf_model.fit(X_train, y_train)\n",
        "kf = KFold(n_splits=5)\n",
        "\n",
        "rf_cv_results = cross_val_score(rf_model, X, y, cv=kf)\n",
        "print(\"Average CV Score of Random Forest Model: \", np.mean(rf_cv_results))"
      ],
      "metadata": {
        "colab": {
          "base_uri": "https://localhost:8080/"
        },
        "id": "z1qLdDP_ojh5",
        "outputId": "9040c9ab-acea-48e3-dc52-2476ffd65c1f"
      },
      "execution_count": 52,
      "outputs": [
        {
          "output_type": "stream",
          "name": "stdout",
          "text": [
            "Average CV Score of Random Forest Model:  0.9133333333333333\n"
          ]
        }
      ]
    },
    {
      "cell_type": "code",
      "source": [
        "filename = 'lr_model.pkl'\n",
        "with open(filename, 'wb') as file:\n",
        "    joblib.dump(lr_model, file)"
      ],
      "metadata": {
        "id": "0smZHKerqSf-"
      },
      "execution_count": 53,
      "outputs": []
    },
    {
      "cell_type": "code",
      "source": [
        "pred = lr_model.predict(np.array([[1,2,3,4]]))"
      ],
      "metadata": {
        "colab": {
          "base_uri": "https://localhost:8080/"
        },
        "id": "iHnWAqQWq2n4",
        "outputId": "ba49dee0-ae0c-4bae-d4b8-046f839ee7a3"
      },
      "execution_count": 54,
      "outputs": [
        {
          "output_type": "stream",
          "name": "stderr",
          "text": [
            "/usr/local/lib/python3.10/dist-packages/sklearn/utils/validation.py:2739: UserWarning: X does not have valid feature names, but LogisticRegression was fitted with feature names\n",
            "  warnings.warn(\n"
          ]
        }
      ]
    },
    {
      "cell_type": "code",
      "source": [
        "pred[0]"
      ],
      "metadata": {
        "colab": {
          "base_uri": "https://localhost:8080/",
          "height": 35
        },
        "id": "En1HGYDtrNP2",
        "outputId": "d446631f-bf76-498e-cfe8-a8c13df870be"
      },
      "execution_count": 55,
      "outputs": [
        {
          "output_type": "execute_result",
          "data": {
            "text/plain": [
              "'Iris-virginica'"
            ],
            "application/vnd.google.colaboratory.intrinsic+json": {
              "type": "string"
            }
          },
          "metadata": {},
          "execution_count": 55
        }
      ]
    },
    {
      "cell_type": "code",
      "source": [],
      "metadata": {
        "id": "WgL-_SsTrmZ_"
      },
      "execution_count": 55,
      "outputs": []
    }
  ]
}